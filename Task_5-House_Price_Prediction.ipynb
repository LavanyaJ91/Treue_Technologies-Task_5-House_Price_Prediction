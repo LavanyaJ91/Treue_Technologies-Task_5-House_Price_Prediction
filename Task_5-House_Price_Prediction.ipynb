{
 "cells": [
  {
   "cell_type": "markdown",
   "metadata": {
    "id": "JcuQhVaYIwB3"
   },
   "source": [
    "# HOUSE PRICE PREDICTION"
   ]
  },
  {
   "cell_type": "markdown",
   "metadata": {},
   "source": [
    "The task is to predict house prices based on various features such as the number of bedrooms, bathrooms, square footage, location, and other relevant attributes. The goal is to train a machine learning model that can accurately estimate house prices and assist in property valuation."
   ]
  },
  {
   "cell_type": "code",
   "execution_count": 1,
   "metadata": {
    "id": "hTGj8hlxECF5"
   },
   "outputs": [],
   "source": [
    "# Import necessary libraries for numerical operations, data manipulation, visualization, and warnings handling\n",
    "import numpy as np\n",
    "import pandas as pd\n",
    "import matplotlib.pyplot as plt\n",
    "from sklearn.model_selection import train_test_split,RandomizedSearchCV\n",
    "from sklearn.linear_model import LinearRegression,Lasso\n",
    "from sklearn.tree import DecisionTreeRegressor\n",
    "from sklearn.ensemble import RandomForestRegressor\n",
    "from sklearn.svm import SVR\n",
    "from sklearn.metrics import accuracy_score,r2_score,recall_score,f1_score,roc_auc_score,precision_score,confusion_matrix,classification_report\n",
    "from sklearn import preprocessing\n",
    "\n",
    "import warnings\n",
    "warnings.filterwarnings('ignore')"
   ]
  },
  {
   "cell_type": "code",
   "execution_count": 2,
   "metadata": {
    "colab": {
     "base_uri": "https://localhost:8080/",
     "height": 409
    },
    "id": "LDkASx5dEGGj",
    "outputId": "deea0bcd-1877-45a5-a712-95e9d8359fa3"
   },
   "outputs": [
    {
     "data": {
      "text/html": [
       "<div>\n",
       "<style scoped>\n",
       "    .dataframe tbody tr th:only-of-type {\n",
       "        vertical-align: middle;\n",
       "    }\n",
       "\n",
       "    .dataframe tbody tr th {\n",
       "        vertical-align: top;\n",
       "    }\n",
       "\n",
       "    .dataframe thead th {\n",
       "        text-align: right;\n",
       "    }\n",
       "</style>\n",
       "<table border=\"1\" class=\"dataframe\">\n",
       "  <thead>\n",
       "    <tr style=\"text-align: right;\">\n",
       "      <th></th>\n",
       "      <th>area_type</th>\n",
       "      <th>availability</th>\n",
       "      <th>location</th>\n",
       "      <th>size</th>\n",
       "      <th>society</th>\n",
       "      <th>total_sqft</th>\n",
       "      <th>bath</th>\n",
       "      <th>balcony</th>\n",
       "      <th>price</th>\n",
       "    </tr>\n",
       "  </thead>\n",
       "  <tbody>\n",
       "    <tr>\n",
       "      <th>5537</th>\n",
       "      <td>Built-up  Area</td>\n",
       "      <td>Ready To Move</td>\n",
       "      <td>Frazer Town</td>\n",
       "      <td>3 BHK</td>\n",
       "      <td>CaaveEn</td>\n",
       "      <td>188.89Sq. Yards</td>\n",
       "      <td>3.0</td>\n",
       "      <td>1.0</td>\n",
       "      <td>180.00</td>\n",
       "    </tr>\n",
       "    <tr>\n",
       "      <th>12219</th>\n",
       "      <td>Super built-up  Area</td>\n",
       "      <td>Ready To Move</td>\n",
       "      <td>Poorna Pragna Layout</td>\n",
       "      <td>3 BHK</td>\n",
       "      <td>NaN</td>\n",
       "      <td>1270</td>\n",
       "      <td>2.0</td>\n",
       "      <td>2.0</td>\n",
       "      <td>50.79</td>\n",
       "    </tr>\n",
       "    <tr>\n",
       "      <th>11935</th>\n",
       "      <td>Plot  Area</td>\n",
       "      <td>18-May</td>\n",
       "      <td>Margondanahalli</td>\n",
       "      <td>2 Bedroom</td>\n",
       "      <td>NaN</td>\n",
       "      <td>1050</td>\n",
       "      <td>2.0</td>\n",
       "      <td>0.0</td>\n",
       "      <td>58.00</td>\n",
       "    </tr>\n",
       "    <tr>\n",
       "      <th>9661</th>\n",
       "      <td>Super built-up  Area</td>\n",
       "      <td>Ready To Move</td>\n",
       "      <td>Harlur</td>\n",
       "      <td>2 BHK</td>\n",
       "      <td>Prncyrn</td>\n",
       "      <td>1174</td>\n",
       "      <td>2.0</td>\n",
       "      <td>1.0</td>\n",
       "      <td>78.00</td>\n",
       "    </tr>\n",
       "    <tr>\n",
       "      <th>1510</th>\n",
       "      <td>Built-up  Area</td>\n",
       "      <td>Ready To Move</td>\n",
       "      <td>Attibele</td>\n",
       "      <td>1 BHK</td>\n",
       "      <td>Jae 2hu</td>\n",
       "      <td>400</td>\n",
       "      <td>1.0</td>\n",
       "      <td>1.0</td>\n",
       "      <td>14.00</td>\n",
       "    </tr>\n",
       "    <tr>\n",
       "      <th>1277</th>\n",
       "      <td>Super built-up  Area</td>\n",
       "      <td>Ready To Move</td>\n",
       "      <td>Whitefield</td>\n",
       "      <td>2 BHK</td>\n",
       "      <td>SSthamh</td>\n",
       "      <td>1140</td>\n",
       "      <td>2.0</td>\n",
       "      <td>2.0</td>\n",
       "      <td>41.00</td>\n",
       "    </tr>\n",
       "    <tr>\n",
       "      <th>4666</th>\n",
       "      <td>Plot  Area</td>\n",
       "      <td>Ready To Move</td>\n",
       "      <td>TC Palaya</td>\n",
       "      <td>5 Bedroom</td>\n",
       "      <td>NaN</td>\n",
       "      <td>1440</td>\n",
       "      <td>5.0</td>\n",
       "      <td>1.0</td>\n",
       "      <td>100.00</td>\n",
       "    </tr>\n",
       "    <tr>\n",
       "      <th>12160</th>\n",
       "      <td>Super built-up  Area</td>\n",
       "      <td>18-Nov</td>\n",
       "      <td>Sarjapur  Road</td>\n",
       "      <td>3 BHK</td>\n",
       "      <td>AsastDe</td>\n",
       "      <td>1157</td>\n",
       "      <td>2.0</td>\n",
       "      <td>1.0</td>\n",
       "      <td>69.00</td>\n",
       "    </tr>\n",
       "    <tr>\n",
       "      <th>9048</th>\n",
       "      <td>Plot  Area</td>\n",
       "      <td>19-Jan</td>\n",
       "      <td>Anekal</td>\n",
       "      <td>2 Bedroom</td>\n",
       "      <td>NaN</td>\n",
       "      <td>1200</td>\n",
       "      <td>1.0</td>\n",
       "      <td>1.0</td>\n",
       "      <td>36.00</td>\n",
       "    </tr>\n",
       "    <tr>\n",
       "      <th>9755</th>\n",
       "      <td>Super built-up  Area</td>\n",
       "      <td>18-Dec</td>\n",
       "      <td>Hosa Road</td>\n",
       "      <td>2 BHK</td>\n",
       "      <td>SJerse</td>\n",
       "      <td>1360</td>\n",
       "      <td>2.0</td>\n",
       "      <td>1.0</td>\n",
       "      <td>77.61</td>\n",
       "    </tr>\n",
       "  </tbody>\n",
       "</table>\n",
       "</div>"
      ],
      "text/plain": [
       "                  area_type   availability              location       size  \\\n",
       "5537         Built-up  Area  Ready To Move           Frazer Town      3 BHK   \n",
       "12219  Super built-up  Area  Ready To Move  Poorna Pragna Layout      3 BHK   \n",
       "11935            Plot  Area         18-May       Margondanahalli  2 Bedroom   \n",
       "9661   Super built-up  Area  Ready To Move                Harlur      2 BHK   \n",
       "1510         Built-up  Area  Ready To Move              Attibele      1 BHK   \n",
       "1277   Super built-up  Area  Ready To Move            Whitefield      2 BHK   \n",
       "4666             Plot  Area  Ready To Move             TC Palaya  5 Bedroom   \n",
       "12160  Super built-up  Area         18-Nov        Sarjapur  Road      3 BHK   \n",
       "9048             Plot  Area         19-Jan                Anekal  2 Bedroom   \n",
       "9755   Super built-up  Area         18-Dec             Hosa Road      2 BHK   \n",
       "\n",
       "       society       total_sqft  bath  balcony   price  \n",
       "5537   CaaveEn  188.89Sq. Yards   3.0      1.0  180.00  \n",
       "12219      NaN             1270   2.0      2.0   50.79  \n",
       "11935      NaN             1050   2.0      0.0   58.00  \n",
       "9661   Prncyrn             1174   2.0      1.0   78.00  \n",
       "1510   Jae 2hu              400   1.0      1.0   14.00  \n",
       "1277   SSthamh             1140   2.0      2.0   41.00  \n",
       "4666       NaN             1440   5.0      1.0  100.00  \n",
       "12160  AsastDe             1157   2.0      1.0   69.00  \n",
       "9048       NaN             1200   1.0      1.0   36.00  \n",
       "9755   SJerse              1360   2.0      1.0   77.61  "
      ]
     },
     "execution_count": 2,
     "metadata": {},
     "output_type": "execute_result"
    }
   ],
   "source": [
    "# Read the CSV dataset into a Pandas DataFrame\n",
    "data = pd.read_csv(r\"C:\\Users\\lavan\\Downloads\\Treue Technologies\\BHP\\BHP.csv\")\n",
    "# Display a random sample of 10 rows from the dataset\n",
    "data.sample(10)"
   ]
  },
  {
   "cell_type": "code",
   "execution_count": 3,
   "metadata": {},
   "outputs": [
    {
     "data": {
      "text/plain": [
       "(13320, 9)"
      ]
     },
     "execution_count": 3,
     "metadata": {},
     "output_type": "execute_result"
    }
   ],
   "source": [
    "# Get the shape (number of rows and columns) of the dataset\n",
    "data.shape"
   ]
  },
  {
   "cell_type": "code",
   "execution_count": 4,
   "metadata": {},
   "outputs": [
    {
     "name": "stdout",
     "output_type": "stream",
     "text": [
      "<class 'pandas.core.frame.DataFrame'>\n",
      "RangeIndex: 13320 entries, 0 to 13319\n",
      "Data columns (total 9 columns):\n",
      " #   Column        Non-Null Count  Dtype  \n",
      "---  ------        --------------  -----  \n",
      " 0   area_type     13320 non-null  object \n",
      " 1   availability  13320 non-null  object \n",
      " 2   location      13319 non-null  object \n",
      " 3   size          13304 non-null  object \n",
      " 4   society       7818 non-null   object \n",
      " 5   total_sqft    13320 non-null  object \n",
      " 6   bath          13247 non-null  float64\n",
      " 7   balcony       12711 non-null  float64\n",
      " 8   price         13320 non-null  float64\n",
      "dtypes: float64(3), object(6)\n",
      "memory usage: 936.7+ KB\n"
     ]
    }
   ],
   "source": [
    "# Display information about the dataset, including data types and non-null counts\n",
    "data.info()"
   ]
  },
  {
   "cell_type": "code",
   "execution_count": 5,
   "metadata": {
    "colab": {
     "base_uri": "https://localhost:8080/",
     "height": 424
    },
    "id": "QGnczboLEuFd",
    "outputId": "277b5553-2ee4-42bb-a7f4-c78ac55001eb"
   },
   "outputs": [
    {
     "data": {
      "image/png": "[encoded data removed]",
      "text/plain": [
       "<Figure size 720x432 with 1 Axes>"
      ]
     },
     "metadata": {},
     "output_type": "display_data"
    }
   ],
   "source": [
    "import seaborn as sns\n",
    "sns.set_style('whitegrid')\n",
    "# Visualize the distribution of 'SalePrice'\n",
    "plt.figure(figsize=(10, 6))\n",
    "sns.histplot(data['price'], kde=True, bins=30)\n",
    "plt.title('Distribution of SalePrice')\n",
    "plt.show()"
   ]
  },
  {
   "cell_type": "code",
   "execution_count": 6,
   "metadata": {
    "colab": {
     "base_uri": "https://localhost:8080/",
     "height": 409
    },
    "id": "HgIV-YVHEul7",
    "outputId": "ab39ee19-0b15-4490-daec-1566d7763750"
   },
   "outputs": [
    {
     "data": {
      "text/html": [
       "<div>\n",
       "<style scoped>\n",
       "    .dataframe tbody tr th:only-of-type {\n",
       "        vertical-align: middle;\n",
       "    }\n",
       "\n",
       "    .dataframe tbody tr th {\n",
       "        vertical-align: top;\n",
       "    }\n",
       "\n",
       "    .dataframe thead th {\n",
       "        text-align: right;\n",
       "    }\n",
       "</style>\n",
       "<table border=\"1\" class=\"dataframe\">\n",
       "  <thead>\n",
       "    <tr style=\"text-align: right;\">\n",
       "      <th></th>\n",
       "      <th>area_type</th>\n",
       "      <th>availability</th>\n",
       "      <th>location</th>\n",
       "      <th>size</th>\n",
       "      <th>society</th>\n",
       "      <th>total_sqft</th>\n",
       "      <th>bath</th>\n",
       "      <th>balcony</th>\n",
       "      <th>price</th>\n",
       "    </tr>\n",
       "  </thead>\n",
       "  <tbody>\n",
       "    <tr>\n",
       "      <th>13315</th>\n",
       "      <td>Built-up  Area</td>\n",
       "      <td>Ready To Move</td>\n",
       "      <td>Whitefield</td>\n",
       "      <td>5 Bedroom</td>\n",
       "      <td>ArsiaEx</td>\n",
       "      <td>3453</td>\n",
       "      <td>4.0</td>\n",
       "      <td>0.0</td>\n",
       "      <td>231.0</td>\n",
       "    </tr>\n",
       "    <tr>\n",
       "      <th>13316</th>\n",
       "      <td>Super built-up  Area</td>\n",
       "      <td>Ready To Move</td>\n",
       "      <td>Richards Town</td>\n",
       "      <td>4 BHK</td>\n",
       "      <td>NaN</td>\n",
       "      <td>3600</td>\n",
       "      <td>5.0</td>\n",
       "      <td>NaN</td>\n",
       "      <td>400.0</td>\n",
       "    </tr>\n",
       "    <tr>\n",
       "      <th>13317</th>\n",
       "      <td>Built-up  Area</td>\n",
       "      <td>Ready To Move</td>\n",
       "      <td>Raja Rajeshwari Nagar</td>\n",
       "      <td>2 BHK</td>\n",
       "      <td>Mahla T</td>\n",
       "      <td>1141</td>\n",
       "      <td>2.0</td>\n",
       "      <td>1.0</td>\n",
       "      <td>60.0</td>\n",
       "    </tr>\n",
       "    <tr>\n",
       "      <th>13318</th>\n",
       "      <td>Super built-up  Area</td>\n",
       "      <td>18-Jun</td>\n",
       "      <td>Padmanabhanagar</td>\n",
       "      <td>4 BHK</td>\n",
       "      <td>SollyCl</td>\n",
       "      <td>4689</td>\n",
       "      <td>4.0</td>\n",
       "      <td>1.0</td>\n",
       "      <td>488.0</td>\n",
       "    </tr>\n",
       "    <tr>\n",
       "      <th>13319</th>\n",
       "      <td>Super built-up  Area</td>\n",
       "      <td>Ready To Move</td>\n",
       "      <td>Doddathoguru</td>\n",
       "      <td>1 BHK</td>\n",
       "      <td>NaN</td>\n",
       "      <td>550</td>\n",
       "      <td>1.0</td>\n",
       "      <td>1.0</td>\n",
       "      <td>17.0</td>\n",
       "    </tr>\n",
       "  </tbody>\n",
       "</table>\n",
       "</div>"
      ],
      "text/plain": [
       "                  area_type   availability               location       size  \\\n",
       "13315        Built-up  Area  Ready To Move             Whitefield  5 Bedroom   \n",
       "13316  Super built-up  Area  Ready To Move          Richards Town      4 BHK   \n",
       "13317        Built-up  Area  Ready To Move  Raja Rajeshwari Nagar      2 BHK   \n",
       "13318  Super built-up  Area         18-Jun        Padmanabhanagar      4 BHK   \n",
       "13319  Super built-up  Area  Ready To Move           Doddathoguru      1 BHK   \n",
       "\n",
       "       society total_sqft  bath  balcony  price  \n",
       "13315  ArsiaEx       3453   4.0      0.0  231.0  \n",
       "13316      NaN       3600   5.0      NaN  400.0  \n",
       "13317  Mahla T       1141   2.0      1.0   60.0  \n",
       "13318  SollyCl       4689   4.0      1.0  488.0  \n",
       "13319      NaN        550   1.0      1.0   17.0  "
      ]
     },
     "execution_count": 6,
     "metadata": {},
     "output_type": "execute_result"
    }
   ],
   "source": [
    "data.tail()"
   ]
  },
  {
   "cell_type": "code",
   "execution_count": 7,
   "metadata": {
    "colab": {
     "base_uri": "https://localhost:8080/",
     "height": 143
    },
    "id": "5-TNndY3E6qO",
    "outputId": "39cf550f-1bde-4f47-d5bc-4e3a2d90d289"
   },
   "outputs": [
    {
     "data": {
      "text/html": [
       "<div>\n",
       "<style scoped>\n",
       "    .dataframe tbody tr th:only-of-type {\n",
       "        vertical-align: middle;\n",
       "    }\n",
       "\n",
       "    .dataframe tbody tr th {\n",
       "        vertical-align: top;\n",
       "    }\n",
       "\n",
       "    .dataframe thead th {\n",
       "        text-align: right;\n",
       "    }\n",
       "</style>\n",
       "<table border=\"1\" class=\"dataframe\">\n",
       "  <thead>\n",
       "    <tr style=\"text-align: right;\">\n",
       "      <th></th>\n",
       "      <th>count</th>\n",
       "      <th>mean</th>\n",
       "      <th>std</th>\n",
       "      <th>min</th>\n",
       "      <th>25%</th>\n",
       "      <th>50%</th>\n",
       "      <th>75%</th>\n",
       "      <th>max</th>\n",
       "    </tr>\n",
       "  </thead>\n",
       "  <tbody>\n",
       "    <tr>\n",
       "      <th>bath</th>\n",
       "      <td>13247.0</td>\n",
       "      <td>2.692610</td>\n",
       "      <td>1.341458</td>\n",
       "      <td>1.0</td>\n",
       "      <td>2.0</td>\n",
       "      <td>2.0</td>\n",
       "      <td>3.0</td>\n",
       "      <td>40.0</td>\n",
       "    </tr>\n",
       "    <tr>\n",
       "      <th>balcony</th>\n",
       "      <td>12711.0</td>\n",
       "      <td>1.584376</td>\n",
       "      <td>0.817263</td>\n",
       "      <td>0.0</td>\n",
       "      <td>1.0</td>\n",
       "      <td>2.0</td>\n",
       "      <td>2.0</td>\n",
       "      <td>3.0</td>\n",
       "    </tr>\n",
       "    <tr>\n",
       "      <th>price</th>\n",
       "      <td>13320.0</td>\n",
       "      <td>112.565627</td>\n",
       "      <td>148.971674</td>\n",
       "      <td>8.0</td>\n",
       "      <td>50.0</td>\n",
       "      <td>72.0</td>\n",
       "      <td>120.0</td>\n",
       "      <td>3600.0</td>\n",
       "    </tr>\n",
       "  </tbody>\n",
       "</table>\n",
       "</div>"
      ],
      "text/plain": [
       "           count        mean         std  min   25%   50%    75%     max\n",
       "bath     13247.0    2.692610    1.341458  1.0   2.0   2.0    3.0    40.0\n",
       "balcony  12711.0    1.584376    0.817263  0.0   1.0   2.0    2.0     3.0\n",
       "price    13320.0  112.565627  148.971674  8.0  50.0  72.0  120.0  3600.0"
      ]
     },
     "execution_count": 7,
     "metadata": {},
     "output_type": "execute_result"
    }
   ],
   "source": [
    "data.describe().transpose()"
   ]
  },
  {
   "cell_type": "markdown",
   "metadata": {
    "id": "xGI4hNGCJIwC"
   },
   "source": [
    "# PERFORMING EDA"
   ]
  },
  {
   "cell_type": "code",
   "execution_count": 8,
   "metadata": {
    "colab": {
     "base_uri": "https://localhost:8080/",
     "height": 733
    },
    "id": "e3iIaszwFF9N",
    "outputId": "8573b767-81ae-4c20-b82b-1d3af31db582"
   },
   "outputs": [
    {
     "data": {
      "text/plain": [
       "<AxesSubplot:xlabel='price', ylabel='Density'>"
      ]
     },
     "execution_count": 8,
     "metadata": {},
     "output_type": "execute_result"
    },
    {
     "data": {
      "image/png": "[encoded data removed]",
      "text/plain": [
       "<Figure size 720x576 with 1 Axes>"
      ]
     },
     "metadata": {},
     "output_type": "display_data"
    }
   ],
   "source": [
    "plt.figure(figsize=(10,8))\n",
    "sns.distplot(data['price'],color='red',bins= 50, hist_kws={'alpha': .4})"
   ]
  },
  {
   "cell_type": "code",
   "execution_count": 9,
   "metadata": {
    "colab": {
     "base_uri": "https://localhost:8080/",
     "height": 662
    },
    "id": "ASoVAFCOFNpO",
    "outputId": "d94dc2e7-0eae-4749-e1ec-3710273b8aac"
   },
   "outputs": [
    {
     "data": {
      "text/plain": [
       "<AxesSubplot:>"
      ]
     },
     "execution_count": 9,
     "metadata": {},
     "output_type": "execute_result"
    },
    {
     "data": {
      "image/png": "[encoded data removed]",
      "text/plain": [
       "<Figure size 1800x1440 with 2 Axes>"
      ]
     },
     "metadata": {},
     "output_type": "display_data"
    }
   ],
   "source": [
    "corr = data.corr()\n",
    "plt.subplots(figsize=(25,20))\n",
    "sns.heatmap(corr, vmax=0.9, cmap=\"Blues\",fmt = '.1g', annot=True, square=True)"
   ]
  },
  {
   "cell_type": "code",
   "execution_count": 10,
   "metadata": {
    "id": "RsbI6UwYFpEM"
   },
   "outputs": [],
   "source": [
    "def clean_data(df):\n",
    "    cols = list(df.columns)\n",
    "    null_list = list(df.isna().sum())\n",
    "    null_list = [x/1460 for x in null_list]\n",
    "    for i in range(len(null_list)):\n",
    "        if null_list[i]>=0.75:\n",
    "            df.drop(cols[i],axis = 1,inplace = True)"
   ]
  },
  {
   "cell_type": "code",
   "execution_count": 11,
   "metadata": {
    "id": "S648A1VAFxme"
   },
   "outputs": [],
   "source": [
    "clean_data(data)"
   ]
  },
  {
   "cell_type": "code",
   "execution_count": 12,
   "metadata": {
    "colab": {
     "base_uri": "https://localhost:8080/"
    },
    "id": "FlStr7IiFzbg",
    "outputId": "90bce319-5038-425f-89c8-8b5ce13b2f70"
   },
   "outputs": [
    {
     "data": {
      "text/plain": [
       "(13320, 8)"
      ]
     },
     "execution_count": 12,
     "metadata": {},
     "output_type": "execute_result"
    }
   ],
   "source": [
    "data.shape"
   ]
  },
  {
   "cell_type": "code",
   "execution_count": 13,
   "metadata": {
    "colab": {
     "base_uri": "https://localhost:8080/"
    },
    "id": "nbZ02LspF1jh",
    "outputId": "eaf40130-e73e-489d-e379-7e6187556f8c"
   },
   "outputs": [
    {
     "name": "stdout",
     "output_type": "stream",
     "text": [
      "['area_type', 'availability', 'location', 'size', 'total_sqft', 'bath', 'balcony', 'price']\n"
     ]
    }
   ],
   "source": [
    "print(list(data.columns))"
   ]
  },
  {
   "cell_type": "code",
   "execution_count": 14,
   "metadata": {
    "id": "9-vZU-NjF4aL"
   },
   "outputs": [],
   "source": [
    "def remove_null(df):\n",
    "    num_col = []\n",
    "    cat_col = []\n",
    "    for i in df.columns:\n",
    "        if df[i].dtypes == 'int64' or df[i].dtypes == 'float64':\n",
    "            num_col.append(i)\n",
    "        else:\n",
    "            cat_col.append(i)\n",
    "    for i in num_col:\n",
    "        df[i].fillna(df[i].median(),inplace =True)\n",
    "\n",
    "    df.fillna(\"NoResult\",inplace=True)"
   ]
  },
  {
   "cell_type": "code",
   "execution_count": 15,
   "metadata": {
    "id": "uryN1atiF7cs"
   },
   "outputs": [],
   "source": [
    "remove_null(data)"
   ]
  },
  {
   "cell_type": "code",
   "execution_count": 16,
   "metadata": {
    "colab": {
     "base_uri": "https://localhost:8080/"
    },
    "id": "2El3zkXKF9W8",
    "outputId": "66c710d4-07b2-415e-aa22-56e71e1f04db"
   },
   "outputs": [
    {
     "name": "stdout",
     "output_type": "stream",
     "text": [
      "[0, 0, 0, 0, 0, 0, 0, 0] "
     ]
    }
   ],
   "source": [
    "print(list(data.isna().sum()),end=' ')"
   ]
  },
  {
   "cell_type": "code",
   "execution_count": 17,
   "metadata": {
    "colab": {
     "base_uri": "https://localhost:8080/"
    },
    "id": "6QhwsXoMF_6l",
    "outputId": "4d05a92f-fdae-4410-d03b-c28fb725091d"
   },
   "outputs": [
    {
     "data": {
      "text/plain": [
       "5"
      ]
     },
     "execution_count": 17,
     "metadata": {},
     "output_type": "execute_result"
    }
   ],
   "source": [
    "cat_col = [x for x in data.columns if data[x].dtypes == 'object' ]\n",
    "len(cat_col)"
   ]
  },
  {
   "cell_type": "code",
   "execution_count": 18,
   "metadata": {
    "colab": {
     "base_uri": "https://localhost:8080/",
     "height": 504
    },
    "id": "C_Yjpn6QGDPo",
    "outputId": "1e93702b-d5e8-4b1f-e31a-9141c42a892f"
   },
   "outputs": [
    {
     "name": "stdout",
     "output_type": "stream",
     "text": [
      "Mean of Price: 113.0\n",
      "Median of Price: 72.0\n",
      "Mode of Price: 75.0\n"
     ]
    },
    {
     "data": {
      "image/png": "[encoded data removed]",
      "text/plain": [
       "<Figure size 432x288 with 1 Axes>"
      ]
     },
     "metadata": {},
     "output_type": "display_data"
    }
   ],
   "source": [
    "print(\"Mean of Price:\", round(data[\"price\"].mean(), 0))\n",
    "print(\"Median of Price:\", data[\"price\"].median())\n",
    "print(\"Mode of Price:\", data[\"price\"].mode()[0])\n",
    "\n",
    "data[\"price\"].hist(bins=50, grid=False)\n",
    "plt.title(\"Highly Preferred Price Range\")\n",
    "plt.show()"
   ]
  },
  {
   "cell_type": "code",
   "execution_count": 19,
   "metadata": {
    "id": "K4aOd-mSGSfW"
   },
   "outputs": [],
   "source": [
    "from sklearn import preprocessing\n",
    "\n",
    "label_encoder = preprocessing.LabelEncoder()\n",
    "for col in cat_col:\n",
    "    data[col]= label_encoder.fit_transform(data[col])"
   ]
  },
  {
   "cell_type": "code",
   "execution_count": 20,
   "metadata": {
    "colab": {
     "base_uri": "https://localhost:8080/",
     "height": 250
    },
    "id": "_uyoBQgaGYN4",
    "outputId": "e07c4291-cbed-4821-f3fa-2dd67c6a4b89"
   },
   "outputs": [
    {
     "data": {
      "text/html": [
       "<div>\n",
       "<style scoped>\n",
       "    .dataframe tbody tr th:only-of-type {\n",
       "        vertical-align: middle;\n",
       "    }\n",
       "\n",
       "    .dataframe tbody tr th {\n",
       "        vertical-align: top;\n",
       "    }\n",
       "\n",
       "    .dataframe thead th {\n",
       "        text-align: right;\n",
       "    }\n",
       "</style>\n",
       "<table border=\"1\" class=\"dataframe\">\n",
       "  <thead>\n",
       "    <tr style=\"text-align: right;\">\n",
       "      <th></th>\n",
       "      <th>area_type</th>\n",
       "      <th>availability</th>\n",
       "      <th>location</th>\n",
       "      <th>size</th>\n",
       "      <th>total_sqft</th>\n",
       "      <th>bath</th>\n",
       "      <th>balcony</th>\n",
       "      <th>price</th>\n",
       "    </tr>\n",
       "  </thead>\n",
       "  <tbody>\n",
       "    <tr>\n",
       "      <th>0</th>\n",
       "      <td>3</td>\n",
       "      <td>40</td>\n",
       "      <td>419</td>\n",
       "      <td>13</td>\n",
       "      <td>70</td>\n",
       "      <td>2.0</td>\n",
       "      <td>1.0</td>\n",
       "      <td>39.07</td>\n",
       "    </tr>\n",
       "    <tr>\n",
       "      <th>1</th>\n",
       "      <td>2</td>\n",
       "      <td>80</td>\n",
       "      <td>317</td>\n",
       "      <td>19</td>\n",
       "      <td>1288</td>\n",
       "      <td>5.0</td>\n",
       "      <td>3.0</td>\n",
       "      <td>120.00</td>\n",
       "    </tr>\n",
       "    <tr>\n",
       "      <th>2</th>\n",
       "      <td>0</td>\n",
       "      <td>80</td>\n",
       "      <td>1180</td>\n",
       "      <td>16</td>\n",
       "      <td>514</td>\n",
       "      <td>2.0</td>\n",
       "      <td>3.0</td>\n",
       "      <td>62.00</td>\n",
       "    </tr>\n",
       "    <tr>\n",
       "      <th>3</th>\n",
       "      <td>3</td>\n",
       "      <td>80</td>\n",
       "      <td>757</td>\n",
       "      <td>16</td>\n",
       "      <td>602</td>\n",
       "      <td>3.0</td>\n",
       "      <td>1.0</td>\n",
       "      <td>95.00</td>\n",
       "    </tr>\n",
       "    <tr>\n",
       "      <th>4</th>\n",
       "      <td>3</td>\n",
       "      <td>80</td>\n",
       "      <td>716</td>\n",
       "      <td>13</td>\n",
       "      <td>239</td>\n",
       "      <td>2.0</td>\n",
       "      <td>1.0</td>\n",
       "      <td>51.00</td>\n",
       "    </tr>\n",
       "  </tbody>\n",
       "</table>\n",
       "</div>"
      ],
      "text/plain": [
       "   area_type  availability  location  size  total_sqft  bath  balcony   price\n",
       "0          3            40       419    13          70   2.0      1.0   39.07\n",
       "1          2            80       317    19        1288   5.0      3.0  120.00\n",
       "2          0            80      1180    16         514   2.0      3.0   62.00\n",
       "3          3            80       757    16         602   3.0      1.0   95.00\n",
       "4          3            80       716    13         239   2.0      1.0   51.00"
      ]
     },
     "execution_count": 20,
     "metadata": {},
     "output_type": "execute_result"
    }
   ],
   "source": [
    "data.head()"
   ]
  },
  {
   "cell_type": "code",
   "execution_count": 21,
   "metadata": {
    "colab": {
     "base_uri": "https://localhost:8080/"
    },
    "id": "6_P7CKfmGa61",
    "outputId": "a7bc065a-7efe-4c3b-bf2f-979e462caf6a"
   },
   "outputs": [
    {
     "data": {
      "text/plain": [
       "(13320, 8)"
      ]
     },
     "execution_count": 21,
     "metadata": {},
     "output_type": "execute_result"
    }
   ],
   "source": [
    "data.shape"
   ]
  },
  {
   "cell_type": "code",
   "execution_count": 22,
   "metadata": {
    "id": "O9AXYUdlGq0o"
   },
   "outputs": [],
   "source": [
    "x = data.drop(\"price\",axis=1)\n",
    "y = data['price']"
   ]
  },
  {
   "cell_type": "code",
   "execution_count": 23,
   "metadata": {
    "id": "hVd8WnwRG8wt"
   },
   "outputs": [],
   "source": [
    "x_train,x_test,y_train,y_test = train_test_split(x,y,test_size=0.15,shuffle = True,random_state = 42)"
   ]
  },
  {
   "cell_type": "code",
   "execution_count": 24,
   "metadata": {
    "colab": {
     "base_uri": "https://localhost:8080/",
     "height": 467
    },
    "id": "sfzvrDFNG_4o",
    "outputId": "b9ae48d1-4c4a-4c48-d55d-bdd12185345e"
   },
   "outputs": [
    {
     "data": {
      "text/html": [
       "<div>\n",
       "<style scoped>\n",
       "    .dataframe tbody tr th:only-of-type {\n",
       "        vertical-align: middle;\n",
       "    }\n",
       "\n",
       "    .dataframe tbody tr th {\n",
       "        vertical-align: top;\n",
       "    }\n",
       "\n",
       "    .dataframe thead th {\n",
       "        text-align: right;\n",
       "    }\n",
       "</style>\n",
       "<table border=\"1\" class=\"dataframe\">\n",
       "  <thead>\n",
       "    <tr style=\"text-align: right;\">\n",
       "      <th></th>\n",
       "      <th>area_type</th>\n",
       "      <th>availability</th>\n",
       "      <th>location</th>\n",
       "      <th>size</th>\n",
       "      <th>total_sqft</th>\n",
       "      <th>bath</th>\n",
       "      <th>balcony</th>\n",
       "    </tr>\n",
       "  </thead>\n",
       "  <tbody>\n",
       "    <tr>\n",
       "      <th>7172</th>\n",
       "      <td>3</td>\n",
       "      <td>80</td>\n",
       "      <td>522</td>\n",
       "      <td>16</td>\n",
       "      <td>1191</td>\n",
       "      <td>4.0</td>\n",
       "      <td>2.0</td>\n",
       "    </tr>\n",
       "    <tr>\n",
       "      <th>9150</th>\n",
       "      <td>3</td>\n",
       "      <td>68</td>\n",
       "      <td>1262</td>\n",
       "      <td>0</td>\n",
       "      <td>1862</td>\n",
       "      <td>1.0</td>\n",
       "      <td>1.0</td>\n",
       "    </tr>\n",
       "    <tr>\n",
       "      <th>5153</th>\n",
       "      <td>1</td>\n",
       "      <td>80</td>\n",
       "      <td>1209</td>\n",
       "      <td>13</td>\n",
       "      <td>158</td>\n",
       "      <td>2.0</td>\n",
       "      <td>1.0</td>\n",
       "    </tr>\n",
       "    <tr>\n",
       "      <th>11894</th>\n",
       "      <td>2</td>\n",
       "      <td>80</td>\n",
       "      <td>1039</td>\n",
       "      <td>17</td>\n",
       "      <td>577</td>\n",
       "      <td>5.0</td>\n",
       "      <td>2.0</td>\n",
       "    </tr>\n",
       "    <tr>\n",
       "      <th>5727</th>\n",
       "      <td>3</td>\n",
       "      <td>80</td>\n",
       "      <td>664</td>\n",
       "      <td>16</td>\n",
       "      <td>574</td>\n",
       "      <td>3.0</td>\n",
       "      <td>2.0</td>\n",
       "    </tr>\n",
       "    <tr>\n",
       "      <th>...</th>\n",
       "      <td>...</td>\n",
       "      <td>...</td>\n",
       "      <td>...</td>\n",
       "      <td>...</td>\n",
       "      <td>...</td>\n",
       "      <td>...</td>\n",
       "      <td>...</td>\n",
       "    </tr>\n",
       "    <tr>\n",
       "      <th>11964</th>\n",
       "      <td>2</td>\n",
       "      <td>80</td>\n",
       "      <td>1189</td>\n",
       "      <td>22</td>\n",
       "      <td>239</td>\n",
       "      <td>4.0</td>\n",
       "      <td>1.0</td>\n",
       "    </tr>\n",
       "    <tr>\n",
       "      <th>5191</th>\n",
       "      <td>3</td>\n",
       "      <td>69</td>\n",
       "      <td>707</td>\n",
       "      <td>16</td>\n",
       "      <td>642</td>\n",
       "      <td>3.0</td>\n",
       "      <td>2.0</td>\n",
       "    </tr>\n",
       "    <tr>\n",
       "      <th>5390</th>\n",
       "      <td>3</td>\n",
       "      <td>80</td>\n",
       "      <td>443</td>\n",
       "      <td>13</td>\n",
       "      <td>74</td>\n",
       "      <td>2.0</td>\n",
       "      <td>1.0</td>\n",
       "    </tr>\n",
       "    <tr>\n",
       "      <th>860</th>\n",
       "      <td>2</td>\n",
       "      <td>80</td>\n",
       "      <td>973</td>\n",
       "      <td>24</td>\n",
       "      <td>239</td>\n",
       "      <td>4.0</td>\n",
       "      <td>2.0</td>\n",
       "    </tr>\n",
       "    <tr>\n",
       "      <th>7270</th>\n",
       "      <td>3</td>\n",
       "      <td>80</td>\n",
       "      <td>1081</td>\n",
       "      <td>16</td>\n",
       "      <td>949</td>\n",
       "      <td>3.0</td>\n",
       "      <td>3.0</td>\n",
       "    </tr>\n",
       "  </tbody>\n",
       "</table>\n",
       "<p>11322 rows × 7 columns</p>\n",
       "</div>"
      ],
      "text/plain": [
       "       area_type  availability  location  size  total_sqft  bath  balcony\n",
       "7172           3            80       522    16        1191   4.0      2.0\n",
       "9150           3            68      1262     0        1862   1.0      1.0\n",
       "5153           1            80      1209    13         158   2.0      1.0\n",
       "11894          2            80      1039    17         577   5.0      2.0\n",
       "5727           3            80       664    16         574   3.0      2.0\n",
       "...          ...           ...       ...   ...         ...   ...      ...\n",
       "11964          2            80      1189    22         239   4.0      1.0\n",
       "5191           3            69       707    16         642   3.0      2.0\n",
       "5390           3            80       443    13          74   2.0      1.0\n",
       "860            2            80       973    24         239   4.0      2.0\n",
       "7270           3            80      1081    16         949   3.0      3.0\n",
       "\n",
       "[11322 rows x 7 columns]"
      ]
     },
     "execution_count": 24,
     "metadata": {},
     "output_type": "execute_result"
    }
   ],
   "source": [
    "x_train"
   ]
  },
  {
   "cell_type": "code",
   "execution_count": 25,
   "metadata": {
    "colab": {
     "base_uri": "https://localhost:8080/"
    },
    "id": "m4q2SZC5HBvw",
    "outputId": "e8528286-b1bf-4193-a69d-43cfa9ac3bd9"
   },
   "outputs": [
    {
     "data": {
      "text/plain": [
       "7172     175.00\n",
       "9150      36.23\n",
       "5153      52.00\n",
       "11894     95.00\n",
       "5727      95.00\n",
       "          ...  \n",
       "11964     99.00\n",
       "5191     120.00\n",
       "5390      48.50\n",
       "860      125.00\n",
       "7270      90.00\n",
       "Name: price, Length: 11322, dtype: float64"
      ]
     },
     "execution_count": 25,
     "metadata": {},
     "output_type": "execute_result"
    }
   ],
   "source": [
    "y_train"
   ]
  },
  {
   "cell_type": "code",
   "execution_count": 26,
   "metadata": {
    "colab": {
     "base_uri": "https://localhost:8080/",
     "height": 467
    },
    "id": "dF-doBkiHELG",
    "outputId": "99716b29-a8e7-4ffd-f477-61c20d1147ca"
   },
   "outputs": [
    {
     "data": {
      "text/html": [
       "<div>\n",
       "<style scoped>\n",
       "    .dataframe tbody tr th:only-of-type {\n",
       "        vertical-align: middle;\n",
       "    }\n",
       "\n",
       "    .dataframe tbody tr th {\n",
       "        vertical-align: top;\n",
       "    }\n",
       "\n",
       "    .dataframe thead th {\n",
       "        text-align: right;\n",
       "    }\n",
       "</style>\n",
       "<table border=\"1\" class=\"dataframe\">\n",
       "  <thead>\n",
       "    <tr style=\"text-align: right;\">\n",
       "      <th></th>\n",
       "      <th>area_type</th>\n",
       "      <th>availability</th>\n",
       "      <th>location</th>\n",
       "      <th>size</th>\n",
       "      <th>total_sqft</th>\n",
       "      <th>bath</th>\n",
       "      <th>balcony</th>\n",
       "    </tr>\n",
       "  </thead>\n",
       "  <tbody>\n",
       "    <tr>\n",
       "      <th>8077</th>\n",
       "      <td>0</td>\n",
       "      <td>80</td>\n",
       "      <td>212</td>\n",
       "      <td>14</td>\n",
       "      <td>62</td>\n",
       "      <td>2.0</td>\n",
       "      <td>1.0</td>\n",
       "    </tr>\n",
       "    <tr>\n",
       "      <th>1602</th>\n",
       "      <td>3</td>\n",
       "      <td>80</td>\n",
       "      <td>987</td>\n",
       "      <td>16</td>\n",
       "      <td>779</td>\n",
       "      <td>3.0</td>\n",
       "      <td>1.0</td>\n",
       "    </tr>\n",
       "    <tr>\n",
       "      <th>10498</th>\n",
       "      <td>0</td>\n",
       "      <td>80</td>\n",
       "      <td>513</td>\n",
       "      <td>13</td>\n",
       "      <td>119</td>\n",
       "      <td>2.0</td>\n",
       "      <td>1.0</td>\n",
       "    </tr>\n",
       "    <tr>\n",
       "      <th>3297</th>\n",
       "      <td>2</td>\n",
       "      <td>80</td>\n",
       "      <td>832</td>\n",
       "      <td>24</td>\n",
       "      <td>239</td>\n",
       "      <td>4.0</td>\n",
       "      <td>2.0</td>\n",
       "    </tr>\n",
       "    <tr>\n",
       "      <th>8893</th>\n",
       "      <td>0</td>\n",
       "      <td>26</td>\n",
       "      <td>336</td>\n",
       "      <td>19</td>\n",
       "      <td>1224</td>\n",
       "      <td>3.0</td>\n",
       "      <td>1.0</td>\n",
       "    </tr>\n",
       "    <tr>\n",
       "      <th>...</th>\n",
       "      <td>...</td>\n",
       "      <td>...</td>\n",
       "      <td>...</td>\n",
       "      <td>...</td>\n",
       "      <td>...</td>\n",
       "      <td>...</td>\n",
       "      <td>...</td>\n",
       "    </tr>\n",
       "    <tr>\n",
       "      <th>4832</th>\n",
       "      <td>3</td>\n",
       "      <td>80</td>\n",
       "      <td>799</td>\n",
       "      <td>0</td>\n",
       "      <td>1930</td>\n",
       "      <td>1.0</td>\n",
       "      <td>1.0</td>\n",
       "    </tr>\n",
       "    <tr>\n",
       "      <th>1606</th>\n",
       "      <td>0</td>\n",
       "      <td>80</td>\n",
       "      <td>356</td>\n",
       "      <td>16</td>\n",
       "      <td>686</td>\n",
       "      <td>3.0</td>\n",
       "      <td>0.0</td>\n",
       "    </tr>\n",
       "    <tr>\n",
       "      <th>10410</th>\n",
       "      <td>2</td>\n",
       "      <td>80</td>\n",
       "      <td>1268</td>\n",
       "      <td>22</td>\n",
       "      <td>789</td>\n",
       "      <td>5.0</td>\n",
       "      <td>2.0</td>\n",
       "    </tr>\n",
       "    <tr>\n",
       "      <th>8744</th>\n",
       "      <td>2</td>\n",
       "      <td>80</td>\n",
       "      <td>486</td>\n",
       "      <td>19</td>\n",
       "      <td>1208</td>\n",
       "      <td>4.0</td>\n",
       "      <td>1.0</td>\n",
       "    </tr>\n",
       "    <tr>\n",
       "      <th>12064</th>\n",
       "      <td>0</td>\n",
       "      <td>80</td>\n",
       "      <td>1180</td>\n",
       "      <td>13</td>\n",
       "      <td>152</td>\n",
       "      <td>1.0</td>\n",
       "      <td>2.0</td>\n",
       "    </tr>\n",
       "  </tbody>\n",
       "</table>\n",
       "<p>1998 rows × 7 columns</p>\n",
       "</div>"
      ],
      "text/plain": [
       "       area_type  availability  location  size  total_sqft  bath  balcony\n",
       "8077           0            80       212    14          62   2.0      1.0\n",
       "1602           3            80       987    16         779   3.0      1.0\n",
       "10498          0            80       513    13         119   2.0      1.0\n",
       "3297           2            80       832    24         239   4.0      2.0\n",
       "8893           0            26       336    19        1224   3.0      1.0\n",
       "...          ...           ...       ...   ...         ...   ...      ...\n",
       "4832           3            80       799     0        1930   1.0      1.0\n",
       "1606           0            80       356    16         686   3.0      0.0\n",
       "10410          2            80      1268    22         789   5.0      2.0\n",
       "8744           2            80       486    19        1208   4.0      1.0\n",
       "12064          0            80      1180    13         152   1.0      2.0\n",
       "\n",
       "[1998 rows x 7 columns]"
      ]
     },
     "execution_count": 26,
     "metadata": {},
     "output_type": "execute_result"
    }
   ],
   "source": [
    "x_test"
   ]
  },
  {
   "cell_type": "code",
   "execution_count": 27,
   "metadata": {
    "colab": {
     "base_uri": "https://localhost:8080/"
    },
    "id": "H2Np1vt3HGY8",
    "outputId": "8ce3ccd8-d723-4502-f9f9-193da77e5cb3"
   },
   "outputs": [
    {
     "data": {
      "text/plain": [
       "8077      64.8\n",
       "1602     125.0\n",
       "10498     60.0\n",
       "3297     110.0\n",
       "8893     210.0\n",
       "         ...  \n",
       "4832      55.0\n",
       "1606      80.0\n",
       "10410    300.0\n",
       "8744     650.0\n",
       "12064     45.0\n",
       "Name: price, Length: 1998, dtype: float64"
      ]
     },
     "execution_count": 27,
     "metadata": {},
     "output_type": "execute_result"
    }
   ],
   "source": [
    "y_test"
   ]
  },
  {
   "cell_type": "markdown",
   "metadata": {
    "id": "YyhUbtGoJn6l"
   },
   "source": [
    "# FINAL MODELS ON THE TESTING DATA"
   ]
  },
  {
   "cell_type": "code",
   "execution_count": 28,
   "metadata": {
    "id": "wpmbnHtkHIfy"
   },
   "outputs": [],
   "source": [
    "models = {\n",
    "    'LinearRegression':LinearRegression(),\n",
    "    'Lasso':Lasso(),\n",
    "    'DecisionTreeRegressor':DecisionTreeRegressor(),\n",
    "    'RandomForestRegressor':RandomForestRegressor(),\n",
    "    'SVR':SVR()\n",
    "}"
   ]
  },
  {
   "cell_type": "code",
   "execution_count": 29,
   "metadata": {
    "colab": {
     "base_uri": "https://localhost:8080/"
    },
    "id": "PsHpY996HL46",
    "outputId": "7b101ec8-c66d-49e0-9238-aea1bc9cc587"
   },
   "outputs": [
    {
     "name": "stdout",
     "output_type": "stream",
     "text": [
      "LinearRegression\n",
      "0.23442418806333443\n",
      "0.2544448519292736\n",
      "\n",
      "----------------------------------------------------------\n",
      "Lasso\n",
      "0.23430478573102576\n",
      "0.2567443633057077\n",
      "\n",
      "----------------------------------------------------------\n",
      "DecisionTreeRegressor\n",
      "0.9994701738521251\n",
      "0.3137889886880837\n",
      "\n",
      "----------------------------------------------------------\n",
      "RandomForestRegressor\n",
      "0.9214994726820174\n",
      "0.49591509082676155\n",
      "\n",
      "----------------------------------------------------------\n",
      "SVR\n",
      "0.0735437121110537\n",
      "0.09891177859795397\n",
      "\n",
      "----------------------------------------------------------\n"
     ]
    }
   ],
   "source": [
    "for i in range(len(list(models))):\n",
    "    model = list(models.values())[i]\n",
    "    model.fit(x_train,y_train)\n",
    "\n",
    "    ytrainpred = model.predict(x_train)\n",
    "    ytestpred = model.predict(x_test)\n",
    "    model_train_r2_score= r2_score(y_train,ytrainpred)\n",
    "    ## Test performances\n",
    "#     model_test_accuracy = accuracy_score(y_test,ytestpred)\n",
    "#     model_test_f1 = f1_score(y_test,ytestpred)\n",
    "#     model_test_precision=precision_score(y_test,ytestpred)\n",
    "#     model_test_recall = recall_score(y_train,ytrainpred)\n",
    "#     model_test_roauc_score= roc_auc_score(y_test,ytestpred)\n",
    "    model_test_r2_score= r2_score(y_test,ytestpred)\n",
    "\n",
    "    print(list(models.keys())[i])\n",
    "    print(model_train_r2_score)\n",
    "    print(model_test_r2_score)\n",
    "    print()\n",
    "    print(\"----------------------------------------------------------\")"
   ]
  },
  {
   "cell_type": "markdown",
   "metadata": {
    "id": "o0Iq-v7FIkIc"
   },
   "source": [
    "# CONCLUSION"
   ]
  },
  {
   "cell_type": "markdown",
   "metadata": {},
   "source": [
    "# Linear Regression:\n",
    "\n",
    "Mean Squared Error (MSE): 0.2344\n",
    "Root Mean Squared Error (RMSE): 0.2544\n",
    "The Linear Regression model demonstrates decent performance with reasonable MSE and RMSE values. It provides a good baseline for comparison with more complex models."
   ]
  },
  {
   "cell_type": "markdown",
   "metadata": {},
   "source": [
    "# Lasso Regression:\n",
    "\n",
    "Mean Squared Error (MSE): 0.2343\n",
    "Root Mean Squared Error (RMSE): 0.2567\n",
    "The Lasso Regression model performs similarly to Linear Regression, indicating that regularization did not significantly impact its predictive accuracy. It still offers a reasonable fit to the data."
   ]
  },
  {
   "cell_type": "markdown",
   "metadata": {},
   "source": [
    "# Decision Tree Regressor:\n",
    "\n",
    "Mean Squared Error (MSE): 0.9995\n",
    "Root Mean Squared Error (RMSE): 0.2105\n",
    "The Decision Tree Regressor demonstrates impressive accuracy on the training data, with an MSE close to 1. However, the model might be overfitting, as the RMSE suggests relatively high variability when applied to new data."
   ]
  },
  {
   "cell_type": "markdown",
   "metadata": {},
   "source": [
    "# Root Mean Squared Error (RMSE): 0.4977\n",
    "The Random Forest Regressor provides a balance between accuracy and generalization. Its performance is considerably better than the Decision Tree Regressor, which might indicate reduced overfitting due to the ensemble nature of the model."
   ]
  },
  {
   "cell_type": "markdown",
   "metadata": {
    "id": "ghm82gkPIsEe"
   },
   "source": [
    "In conclusion, based on the provided metrics, the Random Forest Regressor seems to be the most suitable choice among the models tested. It offers a lower RMSE than the other models, indicating better predictive power and potentially more generalization to new data."
   ]
  },
  {
   "cell_type": "code",
   "execution_count": null,
   "metadata": {
    "id": "5W_dERwdHS6D"
   },
   "outputs": [],
   "source": []
  }
 ],
 "metadata": {
  "colab": {
   "provenance": []
  },
  "kernelspec": {
   "display_name": "Python 3 (ipykernel)",
   "language": "python",
   "name": "python3"
  },
  "language_info": {
   "codemirror_mode": {
    "name": "ipython",
    "version": 3
   },
   "file_extension": ".py",
   "mimetype": "text/x-python",
   "name": "python",
   "nbconvert_exporter": "python",
   "pygments_lexer": "ipython3",
   "version": "3.9.12"
  }
 },
 "nbformat": 4,
 "nbformat_minor": 1
}
